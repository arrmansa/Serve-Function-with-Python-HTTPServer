{
 "cells": [
  {
   "cell_type": "code",
   "execution_count": null,
   "id": "302b0df9",
   "metadata": {},
   "outputs": [],
   "source": [
    "#Minimum import\n",
    "from http.server import HTTPServer, BaseHTTPRequestHandler\n",
    "import pickle\n",
    "\n",
    "#Maximum concurrent requests\n",
    "import socketserver\n",
    "socketserver.TCPServer.request_queue_size = 128"
   ]
  },
  {
   "cell_type": "code",
   "execution_count": null,
   "id": "ef38f6d6",
   "metadata": {},
   "outputs": [],
   "source": [
    "#Function to serve\n",
    "import time\n",
    "globalstring = \"A GLOBAL DEPENDENCY\"\n",
    "def someglobalfunction(someinput):\n",
    "    first = time.perf_counter()\n",
    "    result = someinput[::-1] + globalstring\n",
    "    time.sleep(0.295 - (time.perf_counter() - first))\n",
    "    while time.perf_counter() - first < 0.3:\n",
    "        pass\n",
    "    return result"
   ]
  },
  {
   "cell_type": "code",
   "execution_count": null,
   "id": "e8f84536",
   "metadata": {},
   "outputs": [],
   "source": [
    "#Server\n",
    "class functionserver(BaseHTTPRequestHandler):\n",
    "    def do_POST(self):\n",
    "        #INPUT\n",
    "        content_len = int(self.headers.get('Content-Length'))\n",
    "        function_input = pickle.loads(self.rfile.read(content_len))\n",
    "        #FUNCTION CALL\n",
    "        function_output = someglobalfunction(function_input)\n",
    "        #OUTPUT\n",
    "        self.send_response(200)\n",
    "        self.end_headers()\n",
    "        self.wfile.write(pickle.dumps(function_output))"
   ]
  },
  {
   "cell_type": "code",
   "execution_count": null,
   "id": "b72bd8ed",
   "metadata": {},
   "outputs": [],
   "source": [
    "#Run\n",
    "server = HTTPServer((\"127.0.0.1\", 1234), functionserver)\n",
    "server.serve_forever()"
   ]
  }
 ],
 "metadata": {
  "kernelspec": {
   "display_name": "Python 3 (ipykernel)",
   "language": "python",
   "name": "python3"
  },
  "language_info": {
   "codemirror_mode": {
    "name": "ipython",
    "version": 3
   },
   "file_extension": ".py",
   "mimetype": "text/x-python",
   "name": "python",
   "nbconvert_exporter": "python",
   "pygments_lexer": "ipython3",
   "version": "3.7.10"
  }
 },
 "nbformat": 4,
 "nbformat_minor": 5
}
