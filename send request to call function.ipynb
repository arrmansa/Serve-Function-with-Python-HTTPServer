{
 "cells": [
  {
   "cell_type": "markdown",
   "id": "44ba20f4",
   "metadata": {},
   "source": [
    "# Basic functioning"
   ]
  },
  {
   "cell_type": "code",
   "execution_count": 1,
   "id": "4e3f99d4",
   "metadata": {},
   "outputs": [],
   "source": [
    "import urllib3\n",
    "import pickle"
   ]
  },
  {
   "cell_type": "code",
   "execution_count": 2,
   "id": "4857b132",
   "metadata": {},
   "outputs": [],
   "source": [
    "def functioncall(fn_input):\n",
    "    request = functioncall.PoolManager.request('POST', 'http://127.0.0.1:1234', body = pickle.dumps(fn_input))\n",
    "    return pickle.loads(request.data)\n",
    "setattr(functioncall, 'PoolManager', urllib3.PoolManager())"
   ]
  },
  {
   "cell_type": "code",
   "execution_count": 3,
   "id": "0c669df8",
   "metadata": {},
   "outputs": [
    {
     "data": {
      "text/plain": [
       "'gnirts tset aA GLOBAL DEPENDENCY'"
      ]
     },
     "execution_count": 3,
     "metadata": {},
     "output_type": "execute_result"
    }
   ],
   "source": [
    "functioncall(\"a test string\")"
   ]
  },
  {
   "cell_type": "markdown",
   "id": "91daba98",
   "metadata": {},
   "source": [
    "# TESTING"
   ]
  },
  {
   "cell_type": "code",
   "execution_count": 4,
   "id": "c981888d",
   "metadata": {},
   "outputs": [
    {
     "name": "stdout",
     "output_type": "stream",
     "text": [
      "1 s ± 346 µs per loop (mean ± std. dev. of 7 runs, 1 loop each)\n"
     ]
    }
   ],
   "source": [
    "%%timeit\n",
    "_ = functioncall(\"a test string\")"
   ]
  },
  {
   "cell_type": "markdown",
   "id": "7c616282",
   "metadata": {},
   "source": [
    "## Check with large inputs"
   ]
  },
  {
   "cell_type": "code",
   "execution_count": 5,
   "id": "f6ed3384",
   "metadata": {},
   "outputs": [],
   "source": [
    "import time\n",
    "import sys"
   ]
  },
  {
   "cell_type": "code",
   "execution_count": 6,
   "id": "3a6a35de",
   "metadata": {},
   "outputs": [
    {
     "name": "stdout",
     "output_type": "stream",
     "text": [
      "Verify output True\n",
      "time taken 1.01446\n",
      "0.5 MB input and output 500049 500068\n"
     ]
    }
   ],
   "source": [
    "large_input = \"very very very large text\" * 20000\n",
    "first = time.perf_counter()\n",
    "fn_output = functioncall(large_input)\n",
    "second = time.perf_counter()\n",
    "print(\"Verify output\", fn_output == large_input[::-1] + \"A GLOBAL DEPENDENCY\")\n",
    "print(\"time taken\", round((second - first),5))\n",
    "print(\"0.5 MB input and output\", sys.getsizeof(large_input),sys.getsizeof(fn_output))"
   ]
  },
  {
   "cell_type": "markdown",
   "id": "56eda289",
   "metadata": {},
   "source": [
    "## Check with many concurrent inputs"
   ]
  },
  {
   "cell_type": "code",
   "execution_count": 7,
   "id": "f9c599df",
   "metadata": {},
   "outputs": [
    {
     "name": "stdout",
     "output_type": "stream",
     "text": [
      "12.17827\n",
      "[4.99372, 3.9976, 1.00531, 2.00468, 2.9963, 5.98732, 6.00684, 6.00531, 6.0055, 6.00518, 6.00489, 6.00587]\n",
      "[1, 2, 3, 4, 5, 6, 6, 6, 6, 6, 6, 6]\n"
     ]
    }
   ],
   "source": [
    "from multiprocessing import Pool\n",
    "from adv_functioncall import *\n",
    "\n",
    "textlist = [\"FIRST TEST\", \"second test\" , \"long test\"*1000] * 4\n",
    "\n",
    "#first = time.perf_counter() Inaccurate timings\n",
    "\n",
    "nprocesses = 6 #with retries=0 in line 8 of adv_functioncall.py more retries = more concurrent processes\n",
    "with Pool(nprocesses) as p:\n",
    "    result = p.map(len, textlist) #to start the pool\n",
    "    first = time.perf_counter() #Better timings\n",
    "    result = p.map(adv_functioncall, textlist)\n",
    "    \n",
    "second = time.perf_counter()\n",
    "\n",
    "time_taken = round((second - first),5)\n",
    "print(time_taken)\n",
    "print([item[1] for item in result])\n",
    "print(sorted([round(item[1]) for item in result])) #To show the effects of single threaded server"
   ]
  }
 ],
 "metadata": {
  "kernelspec": {
   "display_name": "Python 3 (ipykernel)",
   "language": "python",
   "name": "python3"
  },
  "language_info": {
   "codemirror_mode": {
    "name": "ipython",
    "version": 3
   },
   "file_extension": ".py",
   "mimetype": "text/x-python",
   "name": "python",
   "nbconvert_exporter": "python",
   "pygments_lexer": "ipython3",
   "version": "3.7.10"
  }
 },
 "nbformat": 4,
 "nbformat_minor": 5
}
