{
 "cells": [
  {
   "cell_type": "markdown",
   "id": "228f6aa2",
   "metadata": {},
   "source": [
    "# Basic functioning"
   ]
  },
  {
   "cell_type": "code",
   "execution_count": 1,
   "id": "4e3f99d4",
   "metadata": {},
   "outputs": [],
   "source": [
    "import urllib3\n",
    "import pickle"
   ]
  },
  {
   "cell_type": "code",
   "execution_count": 2,
   "id": "4857b132",
   "metadata": {},
   "outputs": [],
   "source": [
    "def functioncall(fn_input):\n",
    "    request = functioncall.PoolManager.request('POST', 'http://127.0.0.1:1234', body = pickle.dumps(fn_input))\n",
    "    return pickle.loads(request.data)\n",
    "setattr(functioncall, 'PoolManager', urllib3.PoolManager())"
   ]
  },
  {
   "cell_type": "code",
   "execution_count": 3,
   "id": "0c669df8",
   "metadata": {},
   "outputs": [
    {
     "data": {
      "text/plain": [
       "'gnirts tset aA GLOBAL DEPENDENCY'"
      ]
     },
     "execution_count": 3,
     "metadata": {},
     "output_type": "execute_result"
    }
   ],
   "source": [
    "functioncall(\"a test string\")"
   ]
  },
  {
   "cell_type": "markdown",
   "id": "f2b7d06d",
   "metadata": {},
   "source": [
    "# TESTING"
   ]
  },
  {
   "cell_type": "code",
   "execution_count": 4,
   "id": "3f422bca",
   "metadata": {},
   "outputs": [
    {
     "name": "stdout",
     "output_type": "stream",
     "text": [
      "303 ms ± 701 µs per loop (mean ± std. dev. of 7 runs, 1 loop each)\n"
     ]
    }
   ],
   "source": [
    "%%timeit\n",
    "_ = functioncall(\"a test string\")"
   ]
  },
  {
   "cell_type": "markdown",
   "id": "3655e502",
   "metadata": {},
   "source": [
    "## Check with large inputs"
   ]
  },
  {
   "cell_type": "code",
   "execution_count": 5,
   "id": "40776b0e",
   "metadata": {},
   "outputs": [],
   "source": [
    "import time\n",
    "import sys"
   ]
  },
  {
   "cell_type": "code",
   "execution_count": 6,
   "id": "04ef8be6",
   "metadata": {},
   "outputs": [
    {
     "name": "stdout",
     "output_type": "stream",
     "text": [
      "Verify output True\n",
      "time taken 0.31254\n",
      "0.5 MB input and output 500049 500068\n"
     ]
    }
   ],
   "source": [
    "large_input = \"very very very large text\" * 20000\n",
    "first = time.perf_counter()\n",
    "fn_output = functioncall(large_input)\n",
    "second = time.perf_counter()\n",
    "print(\"Verify output\", fn_output == large_input[::-1] + \"A GLOBAL DEPENDENCY\")\n",
    "print(\"time taken\", round((second - first),5))\n",
    "print(\"0.5 MB input and output\", sys.getsizeof(large_input),sys.getsizeof(fn_output))"
   ]
  },
  {
   "cell_type": "markdown",
   "id": "7f7c78c0",
   "metadata": {},
   "source": [
    "## Check with many concurrent inputs"
   ]
  },
  {
   "cell_type": "code",
   "execution_count": 7,
   "id": "f9c599df",
   "metadata": {},
   "outputs": [
    {
     "name": "stdout",
     "output_type": "stream",
     "text": [
      "7.52865\n",
      "[0.3, 0.6, 0.9, 1.2, 1.5, 1.8, 2.1, 2.4, 2.7, 3.0, 3.3, 3.6, 3.6, 3.6, 3.6, 3.6, 3.6, 3.6, 3.6, 3.6, 3.6, 3.6, 3.6, 3.6]\n"
     ]
    }
   ],
   "source": [
    "from multiprocessing import Pool\n",
    "from adv_functioncall import *\n",
    "\n",
    "textlist = [\"FIRST TEST\", \"second test\" , \"long test\"*1000] * 8\n",
    "\n",
    "#first = time.perf_counter() Inaccurate timings\n",
    "\n",
    "nprocesses = 12 #can go up to socketserver.TCPServer.request_queue_size + 1 without error\n",
    "with Pool(nprocesses) as p:\n",
    "    result = p.map(len, textlist) #to start the pool\n",
    "    first = time.perf_counter() #Better timings\n",
    "    result = p.map(adv_functioncall, textlist)\n",
    "    \n",
    "second = time.perf_counter()\n",
    "\n",
    "time_taken = round((second - first),5)\n",
    "print(time_taken)\n",
    "print(sorted([round(item[1],1) for item in result])) #To show the effects of single threaded server"
   ]
  }
 ],
 "metadata": {
  "kernelspec": {
   "display_name": "Python 3 (ipykernel)",
   "language": "python",
   "name": "python3"
  },
  "language_info": {
   "codemirror_mode": {
    "name": "ipython",
    "version": 3
   },
   "file_extension": ".py",
   "mimetype": "text/x-python",
   "name": "python",
   "nbconvert_exporter": "python",
   "pygments_lexer": "ipython3",
   "version": "3.7.10"
  }
 },
 "nbformat": 4,
 "nbformat_minor": 5
}
